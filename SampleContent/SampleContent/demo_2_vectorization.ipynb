{
 "cells": [
  {
   "cell_type": "markdown",
   "metadata": {},
   "source": [
    "# Vectorization\n",
    "## Load some data"
   ]
  },
  {
   "cell_type": "code",
   "execution_count": 1,
   "metadata": {},
   "outputs": [
    {
     "data": {
      "text/html": [
       "<div>\n",
       "<style scoped>\n",
       "    .dataframe tbody tr th:only-of-type {\n",
       "        vertical-align: middle;\n",
       "    }\n",
       "\n",
       "    .dataframe tbody tr th {\n",
       "        vertical-align: top;\n",
       "    }\n",
       "\n",
       "    .dataframe thead th {\n",
       "        text-align: right;\n",
       "    }\n",
       "</style>\n",
       "<table border=\"1\" class=\"dataframe\">\n",
       "  <thead>\n",
       "    <tr style=\"text-align: right;\">\n",
       "      <th></th>\n",
       "      <th>SPY_close</th>\n",
       "      <th>AAPL_close</th>\n",
       "      <th>AMZN_close</th>\n",
       "    </tr>\n",
       "    <tr>\n",
       "      <th>date</th>\n",
       "      <th></th>\n",
       "      <th></th>\n",
       "      <th></th>\n",
       "    </tr>\n",
       "  </thead>\n",
       "  <tbody>\n",
       "    <tr>\n",
       "      <th>2015-01-02 09:30:00</th>\n",
       "      <td>206.39</td>\n",
       "      <td>111.24</td>\n",
       "      <td>312.58</td>\n",
       "    </tr>\n",
       "    <tr>\n",
       "      <th>2015-01-02 09:31:00</th>\n",
       "      <td>206.44</td>\n",
       "      <td>111.30</td>\n",
       "      <td>312.95</td>\n",
       "    </tr>\n",
       "    <tr>\n",
       "      <th>2015-01-02 09:32:00</th>\n",
       "      <td>206.66</td>\n",
       "      <td>111.30</td>\n",
       "      <td>313.53</td>\n",
       "    </tr>\n",
       "    <tr>\n",
       "      <th>2015-01-02 09:33:00</th>\n",
       "      <td>206.73</td>\n",
       "      <td>111.18</td>\n",
       "      <td>313.65</td>\n",
       "    </tr>\n",
       "    <tr>\n",
       "      <th>2015-01-02 09:34:00</th>\n",
       "      <td>206.62</td>\n",
       "      <td>111.04</td>\n",
       "      <td>313.29</td>\n",
       "    </tr>\n",
       "    <tr>\n",
       "      <th>...</th>\n",
       "      <td>...</td>\n",
       "      <td>...</td>\n",
       "      <td>...</td>\n",
       "    </tr>\n",
       "    <tr>\n",
       "      <th>2019-12-31 15:55:00</th>\n",
       "      <td>321.93</td>\n",
       "      <td>293.58</td>\n",
       "      <td>1848.43</td>\n",
       "    </tr>\n",
       "    <tr>\n",
       "      <th>2019-12-31 15:56:00</th>\n",
       "      <td>321.77</td>\n",
       "      <td>293.44</td>\n",
       "      <td>1846.96</td>\n",
       "    </tr>\n",
       "    <tr>\n",
       "      <th>2019-12-31 15:57:00</th>\n",
       "      <td>321.71</td>\n",
       "      <td>293.39</td>\n",
       "      <td>1846.56</td>\n",
       "    </tr>\n",
       "    <tr>\n",
       "      <th>2019-12-31 15:58:00</th>\n",
       "      <td>321.71</td>\n",
       "      <td>293.51</td>\n",
       "      <td>1847.41</td>\n",
       "    </tr>\n",
       "    <tr>\n",
       "      <th>2019-12-31 15:59:00</th>\n",
       "      <td>321.89</td>\n",
       "      <td>293.37</td>\n",
       "      <td>1847.64</td>\n",
       "    </tr>\n",
       "  </tbody>\n",
       "</table>\n",
       "<p>486330 rows × 3 columns</p>\n",
       "</div>"
      ],
      "text/plain": [
       "                     SPY_close  AAPL_close  AMZN_close\n",
       "date                                                  \n",
       "2015-01-02 09:30:00     206.39      111.24      312.58\n",
       "2015-01-02 09:31:00     206.44      111.30      312.95\n",
       "2015-01-02 09:32:00     206.66      111.30      313.53\n",
       "2015-01-02 09:33:00     206.73      111.18      313.65\n",
       "2015-01-02 09:34:00     206.62      111.04      313.29\n",
       "...                        ...         ...         ...\n",
       "2019-12-31 15:55:00     321.93      293.58     1848.43\n",
       "2019-12-31 15:56:00     321.77      293.44     1846.96\n",
       "2019-12-31 15:57:00     321.71      293.39     1846.56\n",
       "2019-12-31 15:58:00     321.71      293.51     1847.41\n",
       "2019-12-31 15:59:00     321.89      293.37     1847.64\n",
       "\n",
       "[486330 rows x 3 columns]"
      ]
     },
     "execution_count": 1,
     "metadata": {},
     "output_type": "execute_result"
    }
   ],
   "source": [
    "from trader.common.utils import *\n",
    "symbols = [\"SPY\", \"AAPL\", \"AMZN\"]\n",
    "df = load_minute_data(symbols, start_date=\"20150101\", end_date=\"20200101\")\n",
    "close_prices = [f\"{symbol}_close\" for symbol in symbols]\n",
    "df[close_prices]"
   ]
  },
  {
   "cell_type": "markdown",
   "metadata": {},
   "source": [
    "## Compute if SPY and AAPL together cost more than AMZN in a simple loop"
   ]
  },
  {
   "cell_type": "code",
   "execution_count": 2,
   "metadata": {},
   "outputs": [
    {
     "data": {
      "text/plain": [
       "date\n",
       "2015-01-02 09:30:00     True\n",
       "2015-01-02 09:31:00     True\n",
       "2015-01-02 09:32:00     True\n",
       "2015-01-02 09:33:00     True\n",
       "2015-01-02 09:34:00     True\n",
       "                       ...  \n",
       "2019-12-31 15:55:00    False\n",
       "2019-12-31 15:56:00    False\n",
       "2019-12-31 15:57:00    False\n",
       "2019-12-31 15:58:00    False\n",
       "2019-12-31 15:59:00    False\n",
       "Name: total_cost_slow, Length: 486330, dtype: object"
      ]
     },
     "execution_count": 2,
     "metadata": {},
     "output_type": "execute_result"
    }
   ],
   "source": [
    "df[\"total_cost_slow\"] = 0\n",
    "for idx, data in df.iterrows():\n",
    "  df.loc[idx, \"total_cost_slow\"] = (data.loc[idx, \"SPY_close\"] + data.loc[idx, \"AAPL_close\"]) > data.loc[idx, \"AMZN_close\"]\n",
    "df[\"total_cost_slow\"]"
   ]
  },
  {
   "cell_type": "markdown",
   "metadata": {},
   "source": [
    "## Speed up code by vectorizing it"
   ]
  },
  {
   "cell_type": "code",
   "execution_count": 3,
   "metadata": {},
   "outputs": [
    {
     "data": {
      "text/plain": [
       "date\n",
       "2015-01-02 09:30:00     True\n",
       "2015-01-02 09:31:00     True\n",
       "2015-01-02 09:32:00     True\n",
       "2015-01-02 09:33:00     True\n",
       "2015-01-02 09:34:00     True\n",
       "                       ...  \n",
       "2019-12-31 15:55:00    False\n",
       "2019-12-31 15:56:00    False\n",
       "2019-12-31 15:57:00    False\n",
       "2019-12-31 15:58:00    False\n",
       "2019-12-31 15:59:00    False\n",
       "Name: total_cost_fast, Length: 486330, dtype: bool"
      ]
     },
     "execution_count": 3,
     "metadata": {},
     "output_type": "execute_result"
    }
   ],
   "source": [
    "df[\"total_cost_fast\"] =  (df[\"SPY_close\"] + df[\"AAPL_close\"]) > df[\"AMZN_close\"]\n",
    "df[\"total_cost_fast\"]"
   ]
  },
  {
   "cell_type": "code",
   "execution_count": 4,
   "metadata": {},
   "outputs": [],
   "source": [
    "assert (df[\"total_cost_fast\"] == df[\"total_cost_slow\"]).all()"
   ]
  }
 ],
 "metadata": {
  "kernelspec": {
   "display_name": "Python 3.10.4 ('div-env')",
   "language": "python",
   "name": "python3"
  },
  "language_info": {
   "codemirror_mode": {
    "name": "ipython",
    "version": 3
   },
   "file_extension": ".py",
   "mimetype": "text/x-python",
   "name": "python",
   "nbconvert_exporter": "python",
   "pygments_lexer": "ipython3",
   "version": "3.10.4"
  },
  "orig_nbformat": 4,
  "vscode": {
   "interpreter": {
    "hash": "0c6644c6b4682efc040526cd9b35784a14431644d434af23db74e64c237edde9"
   }
  }
 },
 "nbformat": 4,
 "nbformat_minor": 2
}
